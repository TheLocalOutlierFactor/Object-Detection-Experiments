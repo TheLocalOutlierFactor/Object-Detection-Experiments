{
  "nbformat": 4,
  "nbformat_minor": 0,
  "metadata": {
    "colab": {
      "provenance": [],
      "gpuType": "T4"
    },
    "kernelspec": {
      "name": "python3",
      "display_name": "Python 3"
    },
    "language_info": {
      "name": "python"
    },
    "accelerator": "GPU"
  },
  "cells": [
    {
      "cell_type": "code",
      "source": [
        "from google.colab import drive\n",
        "drive.mount('/content/drive')"
      ],
      "metadata": {
        "colab": {
          "base_uri": "https://localhost:8080/"
        },
        "id": "6tY7qRkMhSZj",
        "outputId": "4daa8896-82ca-4662-8d98-eaa483c085a9"
      },
      "execution_count": null,
      "outputs": [
        {
          "output_type": "stream",
          "name": "stdout",
          "text": [
            "Mounted at /content/drive\n"
          ]
        }
      ]
    },
    {
      "cell_type": "code",
      "source": [
        "!git clone https://github.com/PaddlePaddle/PaddleDetection.git"
      ],
      "metadata": {
        "colab": {
          "base_uri": "https://localhost:8080/"
        },
        "id": "iEJAZRrNVVLy",
        "outputId": "46089cdc-3f8e-46f2-d746-ed274fb1979d"
      },
      "execution_count": null,
      "outputs": [
        {
          "output_type": "stream",
          "name": "stdout",
          "text": [
            "Cloning into 'PaddleDetection'...\n",
            "remote: Enumerating objects: 256777, done.\u001b[K\n",
            "remote: Counting objects: 100% (911/911), done.\u001b[K\n",
            "remote: Compressing objects: 100% (454/454), done.\u001b[K\n",
            "remote: Total 256777 (delta 509), reused 746 (delta 448), pack-reused 255866\u001b[K\n",
            "Receiving objects: 100% (256777/256777), 415.62 MiB | 36.21 MiB/s, done.\n",
            "Resolving deltas: 100% (209331/209331), done.\n"
          ]
        }
      ]
    },
    {
      "cell_type": "code",
      "execution_count": null,
      "metadata": {
        "colab": {
          "base_uri": "https://localhost:8080/"
        },
        "id": "AwayfOfeQBgC",
        "outputId": "856fc1fe-e2e1-4107-d651-2d66f51b8f7d"
      },
      "outputs": [
        {
          "output_type": "stream",
          "name": "stdout",
          "text": [
            "Collecting lap\n",
            "  Downloading lap-0.4.0.tar.gz (1.5 MB)\n",
            "\u001b[2K     \u001b[90m━━━━━━━━━━━━━━━━━━━━━━━━━━━━━━━━━━━━━━━━\u001b[0m \u001b[32m1.5/1.5 MB\u001b[0m \u001b[31m7.5 MB/s\u001b[0m eta \u001b[36m0:00:00\u001b[0m\n",
            "\u001b[?25h  Preparing metadata (setup.py) ... \u001b[?25l\u001b[?25hdone\n",
            "Collecting sklearn\n",
            "  Downloading sklearn-0.0.post7.tar.gz (3.6 kB)\n",
            "  Preparing metadata (setup.py) ... \u001b[?25l\u001b[?25hdone\n",
            "Collecting motmetrics\n",
            "  Downloading motmetrics-1.4.0-py3-none-any.whl (161 kB)\n",
            "\u001b[2K     \u001b[90m━━━━━━━━━━━━━━━━━━━━━━━━━━━━━━━━━━━━━━\u001b[0m \u001b[32m161.5/161.5 kB\u001b[0m \u001b[31m10.9 MB/s\u001b[0m eta \u001b[36m0:00:00\u001b[0m\n",
            "\u001b[?25hRequirement already satisfied: openpyxl in /usr/local/lib/python3.10/dist-packages (3.0.10)\n",
            "Collecting cython_bbox\n",
            "  Downloading cython_bbox-0.1.3.tar.gz (41 kB)\n",
            "\u001b[2K     \u001b[90m━━━━━━━━━━━━━━━━━━━━━━━━━━━━━━━━━━━━━━━━\u001b[0m \u001b[32m41.3/41.3 kB\u001b[0m \u001b[31m4.1 MB/s\u001b[0m eta \u001b[36m0:00:00\u001b[0m\n",
            "\u001b[?25h  Preparing metadata (setup.py) ... \u001b[?25l\u001b[?25hdone\n",
            "Requirement already satisfied: numpy>=1.12.1 in /usr/local/lib/python3.10/dist-packages (from motmetrics) (1.22.4)\n",
            "Requirement already satisfied: pandas>=0.23.1 in /usr/local/lib/python3.10/dist-packages (from motmetrics) (1.5.3)\n",
            "Requirement already satisfied: scipy>=0.19.0 in /usr/local/lib/python3.10/dist-packages (from motmetrics) (1.10.1)\n",
            "Collecting xmltodict>=0.12.0 (from motmetrics)\n",
            "  Downloading xmltodict-0.13.0-py2.py3-none-any.whl (10.0 kB)\n",
            "Requirement already satisfied: et-xmlfile in /usr/local/lib/python3.10/dist-packages (from openpyxl) (1.1.0)\n",
            "Requirement already satisfied: python-dateutil>=2.8.1 in /usr/local/lib/python3.10/dist-packages (from pandas>=0.23.1->motmetrics) (2.8.2)\n",
            "Requirement already satisfied: pytz>=2020.1 in /usr/local/lib/python3.10/dist-packages (from pandas>=0.23.1->motmetrics) (2022.7.1)\n",
            "Requirement already satisfied: six>=1.5 in /usr/local/lib/python3.10/dist-packages (from python-dateutil>=2.8.1->pandas>=0.23.1->motmetrics) (1.16.0)\n",
            "Building wheels for collected packages: lap, sklearn, cython_bbox\n",
            "  Building wheel for lap (setup.py) ... \u001b[?25l\u001b[?25hdone\n",
            "  Created wheel for lap: filename=lap-0.4.0-cp310-cp310-linux_x86_64.whl size=1628951 sha256=3f3860789d454852eb7639551e94e8f9e95e56ddfc097b28a41bf483f83af04e\n",
            "  Stored in directory: /root/.cache/pip/wheels/00/42/2e/9dfe19270eea279d79e84767ff0d7b8082c3bf776cad00e83d\n",
            "  Building wheel for sklearn (setup.py) ... \u001b[?25l\u001b[?25hdone\n",
            "  Created wheel for sklearn: filename=sklearn-0.0.post7-py3-none-any.whl size=2952 sha256=09440c56ee50228abf81b52ff7ddb64e22fc07b09dbcd887b1a862ad0f1f2e01\n",
            "  Stored in directory: /root/.cache/pip/wheels/c8/9c/85/72901eb50bc4bc6e3b2629378d172384ea3dfd19759c77fd2c\n",
            "  Building wheel for cython_bbox (setup.py) ... \u001b[?25l\u001b[?25hdone\n",
            "  Created wheel for cython_bbox: filename=cython_bbox-0.1.3-cp310-cp310-linux_x86_64.whl size=62989 sha256=2b1fecf32d00f49b4f2b7f32532333e455578577df305fb9942f3e7534bee3bf\n",
            "  Stored in directory: /root/.cache/pip/wheels/33/f2/fc/4a4b0f3870075d64eb15a38c9ecb3c3d582677ee5f2f2e8939\n",
            "Successfully built lap sklearn cython_bbox\n",
            "Installing collected packages: sklearn, lap, cython_bbox, xmltodict, motmetrics\n",
            "Successfully installed cython_bbox-0.1.3 lap-0.4.0 motmetrics-1.4.0 sklearn-0.0.post7 xmltodict-0.13.0\n",
            "/content/PaddleDetection\n",
            "Requirement already satisfied: numpy<1.24 in /usr/local/lib/python3.10/dist-packages (from -r requirements.txt (line 1)) (1.22.4)\n",
            "Requirement already satisfied: tqdm in /usr/local/lib/python3.10/dist-packages (from -r requirements.txt (line 2)) (4.65.0)\n",
            "Collecting typeguard (from -r requirements.txt (line 3))\n",
            "  Downloading typeguard-4.0.0-py3-none-any.whl (33 kB)\n",
            "Collecting visualdl>=2.2.0 (from -r requirements.txt (line 4))\n",
            "  Downloading visualdl-2.5.3-py3-none-any.whl (6.3 MB)\n",
            "\u001b[2K     \u001b[90m━━━━━━━━━━━━━━━━━━━━━━━━━━━━━━━━━━━━━━━━\u001b[0m \u001b[32m6.3/6.3 MB\u001b[0m \u001b[31m19.2 MB/s\u001b[0m eta \u001b[36m0:00:00\u001b[0m\n",
            "\u001b[?25hCollecting opencv-python<=4.6.0 (from -r requirements.txt (line 5))\n",
            "  Downloading opencv_python-4.5.5.64-cp36-abi3-manylinux_2_17_x86_64.manylinux2014_x86_64.whl (60.5 MB)\n",
            "\u001b[2K     \u001b[90m━━━━━━━━━━━━━━━━━━━━━━━━━━━━━━━━━━━━━━━━\u001b[0m \u001b[32m60.5/60.5 MB\u001b[0m \u001b[31m12.7 MB/s\u001b[0m eta \u001b[36m0:00:00\u001b[0m\n",
            "\u001b[?25hRequirement already satisfied: PyYAML in /usr/local/lib/python3.10/dist-packages (from -r requirements.txt (line 6)) (6.0.1)\n",
            "Requirement already satisfied: shapely in /usr/local/lib/python3.10/dist-packages (from -r requirements.txt (line 7)) (2.0.1)\n",
            "Requirement already satisfied: scipy in /usr/local/lib/python3.10/dist-packages (from -r requirements.txt (line 8)) (1.10.1)\n",
            "Collecting terminaltables (from -r requirements.txt (line 9))\n",
            "  Downloading terminaltables-3.1.10-py2.py3-none-any.whl (15 kB)\n",
            "Requirement already satisfied: Cython in /usr/local/lib/python3.10/dist-packages (from -r requirements.txt (line 10)) (0.29.36)\n",
            "Requirement already satisfied: pycocotools in /usr/local/lib/python3.10/dist-packages (from -r requirements.txt (line 11)) (2.0.6)\n",
            "Requirement already satisfied: setuptools in /usr/local/lib/python3.10/dist-packages (from -r requirements.txt (line 12)) (67.7.2)\n",
            "Requirement already satisfied: lap in /usr/local/lib/python3.10/dist-packages (from -r requirements.txt (line 15)) (0.4.0)\n",
            "Requirement already satisfied: motmetrics in /usr/local/lib/python3.10/dist-packages (from -r requirements.txt (line 16)) (1.4.0)\n",
            "Collecting sklearn==0.0 (from -r requirements.txt (line 17))\n",
            "  Downloading sklearn-0.0.tar.gz (1.1 kB)\n",
            "  Preparing metadata (setup.py) ... \u001b[?25l\u001b[?25hdone\n",
            "Collecting pyclipper (from -r requirements.txt (line 20))\n",
            "  Downloading pyclipper-1.3.0.post4-cp310-cp310-manylinux_2_12_x86_64.manylinux2010_x86_64.whl (813 kB)\n",
            "\u001b[2K     \u001b[90m━━━━━━━━━━━━━━━━━━━━━━━━━━━━━━━━━━━━━━\u001b[0m \u001b[32m813.9/813.9 kB\u001b[0m \u001b[31m66.5 MB/s\u001b[0m eta \u001b[36m0:00:00\u001b[0m\n",
            "\u001b[?25hRequirement already satisfied: scikit-learn in /usr/local/lib/python3.10/dist-packages (from sklearn==0.0->-r requirements.txt (line 17)) (1.2.2)\n",
            "Requirement already satisfied: typing-extensions>=4.4.0 in /usr/local/lib/python3.10/dist-packages (from typeguard->-r requirements.txt (line 3)) (4.7.1)\n",
            "Collecting bce-python-sdk (from visualdl>=2.2.0->-r requirements.txt (line 4))\n",
            "  Downloading bce_python_sdk-0.8.87-py3-none-any.whl (231 kB)\n",
            "\u001b[2K     \u001b[90m━━━━━━━━━━━━━━━━━━━━━━━━━━━━━━━━━━━━━━\u001b[0m \u001b[32m231.3/231.3 kB\u001b[0m \u001b[31m25.7 MB/s\u001b[0m eta \u001b[36m0:00:00\u001b[0m\n",
            "\u001b[?25hRequirement already satisfied: flask>=1.1.1 in /usr/local/lib/python3.10/dist-packages (from visualdl>=2.2.0->-r requirements.txt (line 4)) (2.2.5)\n",
            "Collecting Flask-Babel>=3.0.0 (from visualdl>=2.2.0->-r requirements.txt (line 4))\n",
            "  Downloading flask_babel-3.1.0-py3-none-any.whl (9.6 kB)\n",
            "Requirement already satisfied: Pillow>=7.0.0 in /usr/local/lib/python3.10/dist-packages (from visualdl>=2.2.0->-r requirements.txt (line 4)) (8.4.0)\n",
            "Requirement already satisfied: protobuf>=3.20.0 in /usr/local/lib/python3.10/dist-packages (from visualdl>=2.2.0->-r requirements.txt (line 4)) (3.20.3)\n",
            "Requirement already satisfied: requests in /usr/local/lib/python3.10/dist-packages (from visualdl>=2.2.0->-r requirements.txt (line 4)) (2.27.1)\n",
            "Requirement already satisfied: six>=1.14.0 in /usr/local/lib/python3.10/dist-packages (from visualdl>=2.2.0->-r requirements.txt (line 4)) (1.16.0)\n",
            "Requirement already satisfied: matplotlib in /usr/local/lib/python3.10/dist-packages (from visualdl>=2.2.0->-r requirements.txt (line 4)) (3.7.1)\n",
            "Requirement already satisfied: pandas in /usr/local/lib/python3.10/dist-packages (from visualdl>=2.2.0->-r requirements.txt (line 4)) (1.5.3)\n",
            "Requirement already satisfied: packaging in /usr/local/lib/python3.10/dist-packages (from visualdl>=2.2.0->-r requirements.txt (line 4)) (23.1)\n",
            "Collecting rarfile (from visualdl>=2.2.0->-r requirements.txt (line 4))\n",
            "  Downloading rarfile-4.0-py3-none-any.whl (28 kB)\n",
            "Requirement already satisfied: psutil in /usr/local/lib/python3.10/dist-packages (from visualdl>=2.2.0->-r requirements.txt (line 4)) (5.9.5)\n",
            "Requirement already satisfied: xmltodict>=0.12.0 in /usr/local/lib/python3.10/dist-packages (from motmetrics->-r requirements.txt (line 16)) (0.13.0)\n",
            "Requirement already satisfied: Werkzeug>=2.2.2 in /usr/local/lib/python3.10/dist-packages (from flask>=1.1.1->visualdl>=2.2.0->-r requirements.txt (line 4)) (2.3.6)\n",
            "Requirement already satisfied: Jinja2>=3.0 in /usr/local/lib/python3.10/dist-packages (from flask>=1.1.1->visualdl>=2.2.0->-r requirements.txt (line 4)) (3.1.2)\n",
            "Requirement already satisfied: itsdangerous>=2.0 in /usr/local/lib/python3.10/dist-packages (from flask>=1.1.1->visualdl>=2.2.0->-r requirements.txt (line 4)) (2.1.2)\n",
            "Requirement already satisfied: click>=8.0 in /usr/local/lib/python3.10/dist-packages (from flask>=1.1.1->visualdl>=2.2.0->-r requirements.txt (line 4)) (8.1.6)\n",
            "Requirement already satisfied: Babel>=2.12 in /usr/local/lib/python3.10/dist-packages (from Flask-Babel>=3.0.0->visualdl>=2.2.0->-r requirements.txt (line 4)) (2.12.1)\n",
            "Requirement already satisfied: pytz>=2022.7 in /usr/local/lib/python3.10/dist-packages (from Flask-Babel>=3.0.0->visualdl>=2.2.0->-r requirements.txt (line 4)) (2022.7.1)\n",
            "Requirement already satisfied: contourpy>=1.0.1 in /usr/local/lib/python3.10/dist-packages (from matplotlib->visualdl>=2.2.0->-r requirements.txt (line 4)) (1.1.0)\n",
            "Requirement already satisfied: cycler>=0.10 in /usr/local/lib/python3.10/dist-packages (from matplotlib->visualdl>=2.2.0->-r requirements.txt (line 4)) (0.11.0)\n",
            "Requirement already satisfied: fonttools>=4.22.0 in /usr/local/lib/python3.10/dist-packages (from matplotlib->visualdl>=2.2.0->-r requirements.txt (line 4)) (4.41.0)\n",
            "Requirement already satisfied: kiwisolver>=1.0.1 in /usr/local/lib/python3.10/dist-packages (from matplotlib->visualdl>=2.2.0->-r requirements.txt (line 4)) (1.4.4)\n",
            "Requirement already satisfied: pyparsing>=2.3.1 in /usr/local/lib/python3.10/dist-packages (from matplotlib->visualdl>=2.2.0->-r requirements.txt (line 4)) (3.1.0)\n",
            "Requirement already satisfied: python-dateutil>=2.7 in /usr/local/lib/python3.10/dist-packages (from matplotlib->visualdl>=2.2.0->-r requirements.txt (line 4)) (2.8.2)\n",
            "Collecting pycryptodome>=3.8.0 (from bce-python-sdk->visualdl>=2.2.0->-r requirements.txt (line 4))\n",
            "  Downloading pycryptodome-3.18.0-cp35-abi3-manylinux_2_17_x86_64.manylinux2014_x86_64.whl (2.1 MB)\n",
            "\u001b[2K     \u001b[90m━━━━━━━━━━━━━━━━━━━━━━━━━━━━━━━━━━━━━━━━\u001b[0m \u001b[32m2.1/2.1 MB\u001b[0m \u001b[31m87.6 MB/s\u001b[0m eta \u001b[36m0:00:00\u001b[0m\n",
            "\u001b[?25hRequirement already satisfied: future>=0.6.0 in /usr/local/lib/python3.10/dist-packages (from bce-python-sdk->visualdl>=2.2.0->-r requirements.txt (line 4)) (0.18.3)\n",
            "Requirement already satisfied: urllib3<1.27,>=1.21.1 in /usr/local/lib/python3.10/dist-packages (from requests->visualdl>=2.2.0->-r requirements.txt (line 4)) (1.26.16)\n",
            "Requirement already satisfied: certifi>=2017.4.17 in /usr/local/lib/python3.10/dist-packages (from requests->visualdl>=2.2.0->-r requirements.txt (line 4)) (2023.5.7)\n",
            "Requirement already satisfied: charset-normalizer~=2.0.0 in /usr/local/lib/python3.10/dist-packages (from requests->visualdl>=2.2.0->-r requirements.txt (line 4)) (2.0.12)\n",
            "Requirement already satisfied: idna<4,>=2.5 in /usr/local/lib/python3.10/dist-packages (from requests->visualdl>=2.2.0->-r requirements.txt (line 4)) (3.4)\n",
            "Requirement already satisfied: joblib>=1.1.1 in /usr/local/lib/python3.10/dist-packages (from scikit-learn->sklearn==0.0->-r requirements.txt (line 17)) (1.3.1)\n",
            "Requirement already satisfied: threadpoolctl>=2.0.0 in /usr/local/lib/python3.10/dist-packages (from scikit-learn->sklearn==0.0->-r requirements.txt (line 17)) (3.2.0)\n",
            "Requirement already satisfied: MarkupSafe>=2.0 in /usr/local/lib/python3.10/dist-packages (from Jinja2>=3.0->flask>=1.1.1->visualdl>=2.2.0->-r requirements.txt (line 4)) (2.1.3)\n",
            "Building wheels for collected packages: sklearn\n",
            "  Building wheel for sklearn (setup.py) ... \u001b[?25l\u001b[?25hdone\n",
            "  Created wheel for sklearn: filename=sklearn-0.0-py2.py3-none-any.whl size=1302 sha256=d1caf77d570696514d0c0484d4b1e6c5f579377f40ebd40d4801e61c37746988\n",
            "  Stored in directory: /root/.cache/pip/wheels/9b/13/01/6f3a7fd641f90e1f6c8c7cded057f3394f451f340371c68f3d\n",
            "Successfully built sklearn\n",
            "Installing collected packages: rarfile, pyclipper, typeguard, terminaltables, pycryptodome, opencv-python, bce-python-sdk, sklearn, Flask-Babel, visualdl\n",
            "  Attempting uninstall: opencv-python\n",
            "    Found existing installation: opencv-python 4.7.0.72\n",
            "    Uninstalling opencv-python-4.7.0.72:\n",
            "      Successfully uninstalled opencv-python-4.7.0.72\n",
            "  Attempting uninstall: sklearn\n",
            "    Found existing installation: sklearn 0.0.post7\n",
            "    Uninstalling sklearn-0.0.post7:\n",
            "      Successfully uninstalled sklearn-0.0.post7\n",
            "Successfully installed Flask-Babel-3.1.0 bce-python-sdk-0.8.87 opencv-python-4.5.5.64 pyclipper-1.3.0.post4 pycryptodome-3.18.0 rarfile-4.0 sklearn-0.0 terminaltables-3.1.10 typeguard-4.0.0 visualdl-2.5.3\n",
            "Collecting paddlepaddle-gpu\n",
            "  Downloading paddlepaddle_gpu-2.5.0-cp310-cp310-manylinux1_x86_64.whl (543.2 MB)\n",
            "\u001b[2K     \u001b[90m━━━━━━━━━━━━━━━━━━━━━━━━━━━━━━━━━━━━━━━\u001b[0m \u001b[32m543.2/543.2 MB\u001b[0m \u001b[31m3.0 MB/s\u001b[0m eta \u001b[36m0:00:00\u001b[0m\n",
            "\u001b[?25hCollecting httpx (from paddlepaddle-gpu)\n",
            "  Downloading httpx-0.24.1-py3-none-any.whl (75 kB)\n",
            "\u001b[2K     \u001b[90m━━━━━━━━━━━━━━━━━━━━━━━━━━━━━━━━━━━━━━━━\u001b[0m \u001b[32m75.4/75.4 kB\u001b[0m \u001b[31m7.7 MB/s\u001b[0m eta \u001b[36m0:00:00\u001b[0m\n",
            "\u001b[?25hRequirement already satisfied: numpy>=1.13 in /usr/local/lib/python3.10/dist-packages (from paddlepaddle-gpu) (1.22.4)\n",
            "Requirement already satisfied: Pillow in /usr/local/lib/python3.10/dist-packages (from paddlepaddle-gpu) (8.4.0)\n",
            "Requirement already satisfied: decorator in /usr/local/lib/python3.10/dist-packages (from paddlepaddle-gpu) (4.4.2)\n",
            "Collecting astor (from paddlepaddle-gpu)\n",
            "  Downloading astor-0.8.1-py2.py3-none-any.whl (27 kB)\n",
            "Collecting paddle-bfloat==0.1.7 (from paddlepaddle-gpu)\n",
            "  Downloading paddle_bfloat-0.1.7-cp310-cp310-manylinux_2_17_x86_64.manylinux2014_x86_64.whl (383 kB)\n",
            "\u001b[2K     \u001b[90m━━━━━━━━━━━━━━━━━━━━━━━━━━━━━━━━━━━━━━\u001b[0m \u001b[32m383.2/383.2 kB\u001b[0m \u001b[31m36.8 MB/s\u001b[0m eta \u001b[36m0:00:00\u001b[0m\n",
            "\u001b[?25hRequirement already satisfied: opt-einsum==3.3.0 in /usr/local/lib/python3.10/dist-packages (from paddlepaddle-gpu) (3.3.0)\n",
            "Requirement already satisfied: protobuf>=3.20.2 in /usr/local/lib/python3.10/dist-packages (from paddlepaddle-gpu) (3.20.3)\n",
            "Requirement already satisfied: certifi in /usr/local/lib/python3.10/dist-packages (from httpx->paddlepaddle-gpu) (2023.5.7)\n",
            "Collecting httpcore<0.18.0,>=0.15.0 (from httpx->paddlepaddle-gpu)\n",
            "  Downloading httpcore-0.17.3-py3-none-any.whl (74 kB)\n",
            "\u001b[2K     \u001b[90m━━━━━━━━━━━━━━━━━━━━━━━━━━━━━━━━━━━━━━━━\u001b[0m \u001b[32m74.5/74.5 kB\u001b[0m \u001b[31m7.7 MB/s\u001b[0m eta \u001b[36m0:00:00\u001b[0m\n",
            "\u001b[?25hRequirement already satisfied: idna in /usr/local/lib/python3.10/dist-packages (from httpx->paddlepaddle-gpu) (3.4)\n",
            "Requirement already satisfied: sniffio in /usr/local/lib/python3.10/dist-packages (from httpx->paddlepaddle-gpu) (1.3.0)\n",
            "Collecting h11<0.15,>=0.13 (from httpcore<0.18.0,>=0.15.0->httpx->paddlepaddle-gpu)\n",
            "  Downloading h11-0.14.0-py3-none-any.whl (58 kB)\n",
            "\u001b[2K     \u001b[90m━━━━━━━━━━━━━━━━━━━━━━━━━━━━━━━━━━━━━━━━\u001b[0m \u001b[32m58.3/58.3 kB\u001b[0m \u001b[31m7.1 MB/s\u001b[0m eta \u001b[36m0:00:00\u001b[0m\n",
            "\u001b[?25hRequirement already satisfied: anyio<5.0,>=3.0 in /usr/local/lib/python3.10/dist-packages (from httpcore<0.18.0,>=0.15.0->httpx->paddlepaddle-gpu) (3.7.1)\n",
            "Requirement already satisfied: exceptiongroup in /usr/local/lib/python3.10/dist-packages (from anyio<5.0,>=3.0->httpcore<0.18.0,>=0.15.0->httpx->paddlepaddle-gpu) (1.1.2)\n",
            "Installing collected packages: paddle-bfloat, h11, astor, httpcore, httpx, paddlepaddle-gpu\n",
            "Successfully installed astor-0.8.1 h11-0.14.0 httpcore-0.17.3 httpx-0.24.1 paddle-bfloat-0.1.7 paddlepaddle-gpu-2.5.0\n",
            "--2023-07-22 12:44:02--  http://nz2.archive.ubuntu.com/ubuntu/pool/main/o/openssl/libssl1.1_1.1.1f-1ubuntu2.19_amd64.deb\n",
            "Resolving nz2.archive.ubuntu.com (nz2.archive.ubuntu.com)... 185.125.190.36, 185.125.190.39, 91.189.91.39, ...\n",
            "Connecting to nz2.archive.ubuntu.com (nz2.archive.ubuntu.com)|185.125.190.36|:80... connected.\n",
            "HTTP request sent, awaiting response... 200 OK\n",
            "Length: 1321244 (1.3M) [application/x-debian-package]\n",
            "Saving to: ‘libssl1.1_1.1.1f-1ubuntu2.19_amd64.deb’\n",
            "\n",
            "libssl1.1_1.1.1f-1u 100%[===================>]   1.26M  1.64MB/s    in 0.8s    \n",
            "\n",
            "2023-07-22 12:44:03 (1.64 MB/s) - ‘libssl1.1_1.1.1f-1ubuntu2.19_amd64.deb’ saved [1321244/1321244]\n",
            "\n",
            "Selecting previously unselected package libssl1.1:amd64.\n",
            "(Reading database ... 129824 files and directories currently installed.)\n",
            "Preparing to unpack libssl1.1_1.1.1f-1ubuntu2.19_amd64.deb ...\n",
            "Unpacking libssl1.1:amd64 (1.1.1f-1ubuntu2.19) ...\n",
            "Setting up libssl1.1:amd64 (1.1.1f-1ubuntu2.19) ...\n",
            "debconf: unable to initialize frontend: Dialog\n",
            "debconf: (No usable dialog-like program is installed, so the dialog based frontend cannot be used. at /usr/share/perl5/Debconf/FrontEnd/Dialog.pm line 78.)\n",
            "debconf: falling back to frontend: Readline\n",
            "debconf: unable to initialize frontend: Readline\n",
            "debconf: (This frontend requires a controlling tty.)\n",
            "debconf: falling back to frontend: Teletype\n",
            "Processing triggers for libc-bin (2.35-0ubuntu3.1) ...\n"
          ]
        }
      ],
      "source": [
        "!pip install lap sklearn motmetrics openpyxl cython_bbox\n",
        "%cd /content/PaddleDetection/\n",
        "!pip install -r requirements.txt\n",
        "!pip install paddlepaddle-gpu\n",
        "!wget http://nz2.archive.ubuntu.com/ubuntu/pool/main/o/openssl/libssl1.1_1.1.1f-1ubuntu2.19_amd64.deb\n",
        "!sudo dpkg -i libssl1.1_1.1.1f-1ubuntu2.19_amd64.deb"
      ]
    },
    {
      "cell_type": "code",
      "source": [
        "!cp \"/content/drive/MyDrive/video.mp4\" \"/content/input.mp4\""
      ],
      "metadata": {
        "id": "BlFRRzMfhbhT"
      },
      "execution_count": null,
      "outputs": []
    },
    {
      "cell_type": "code",
      "source": [
        "models_to_try = [\n",
        "    \"fairmot_dla34_30e_1088x608\",\n",
        "    \"fairmot_dla34_30e_1088x608_airplane\",\n",
        "    \"fairmot_dla34_30e_1088x608_bytetracker\",\n",
        "    \"fairmot_dla34_30e_576x320\",\n",
        "    \"fairmot_dla34_30e_864x480\",\n",
        "    \"fairmot_enhance_dla34_60e_1088x608\",\n",
        "    \"fairmot_enhance_hardnet85_30e_1088x608\",\n",
        "    \"fairmot_hrnetv2_w18_dlafpn_30e_1088x608\",\n",
        "    \"fairmot_hrnetv2_w18_dlafpn_30e_576x320\",\n",
        "    \"fairmot_hrnetv2_w18_dlafpn_30e_864x480\"\n",
        "]"
      ],
      "metadata": {
        "id": "fSWKfrOLw6Lj"
      },
      "execution_count": null,
      "outputs": []
    },
    {
      "cell_type": "code",
      "source": [
        "from IPython.display import clear_output\n",
        "%cd /content/PaddleDetection/\n",
        "\n",
        "for model in models_to_try:\n",
        "  output_path = \"/content/PaddleDetection/output/mot_outputs/input_vis.mp4\"\n",
        "  save_path = f\"/content/drive/MyDrive/PADDLEDETECTION_EXPERIMENTS/{model}.mp4\"\n",
        "\n",
        "  weights = f\"https://paddledet.bj.bcebos.com/models/mot/{model}.pdparams\"\n",
        "  model_path = f\"configs/mot/fairmot/{model}.yml\"\n",
        "\n",
        "  !yes | python tools/infer_mot.py -c {model_path} -o weights={weights} --video_file=/content/input.mp4  --save_videos --frame_rate 25\n",
        "\n",
        "  !cp {output_path} {save_path}\n",
        "  !rm \"/content/PaddleDetection/output/mot_outputs/input_vis.mp4\"\n",
        "\n",
        "  clear_output()"
      ],
      "metadata": {
        "id": "BhQWMhrl06IN"
      },
      "execution_count": null,
      "outputs": []
    },
    {
      "cell_type": "code",
      "source": [
        "models_to_try = [\n",
        "    \"bytetrack_yolov3\",\n",
        "    \"bytetrack_yolox\",\n",
        "    \"bytetrack_yolox_ht21\"\n",
        "]"
      ],
      "metadata": {
        "id": "AbivpqFb2nPw"
      },
      "execution_count": null,
      "outputs": []
    },
    {
      "cell_type": "code",
      "source": [
        "from IPython.display import clear_output\n",
        "%cd /content/PaddleDetection/\n",
        "\n",
        "for model in models_to_try:\n",
        "  output_path = \"/content/PaddleDetection/output/mot_outputs/input_vis.mp4\"\n",
        "  save_path = f\"/content/drive/MyDrive/PADDLEDETECTION_EXPERIMENTS/{model}.mp4\"\n",
        "\n",
        "  weights = f\"https://paddledet.bj.bcebos.com/models/mot/{model}.pdparams\"\n",
        "  model_path = f\"configs/mot/bytetrack/{model}.yml\"\n",
        "\n",
        "  !yes | python tools/infer_mot.py -c {model_path} -o weights={weights} --video_file=/content/input.mp4  --save_videos --frame_rate 25\n",
        "\n",
        "  !cp {output_path} {save_path}\n",
        "  !rm \"/content/PaddleDetection/output/mot_outputs/input_vis.mp4\"\n",
        "\n",
        "  clear_output()"
      ],
      "metadata": {
        "id": "mC130hgtZ93G"
      },
      "execution_count": null,
      "outputs": []
    },
    {
      "cell_type": "code",
      "source": [
        "models_to_try = [\n",
        "    \"fairmot_dla34_30e_1088x608_pathtrack\",\n",
        "    \"fairmot_dla34_30e_1088x608_visdrone_pedestrian\",\n",
        "    \"fairmot_hrnetv2_w18_dlafpn_30e_1088x608_visdrone_pedestrian\",\n",
        "    \"fairmot_hrnetv2_w18_dlafpn_30e_576x320_visdrone_pedestrian\",\n",
        "    \"fairmot_hrnetv2_w18_dlafpn_30e_864x480_visdrone_pedestrian\"\n",
        "]"
      ],
      "metadata": {
        "id": "SHoVOWeNahR9"
      },
      "execution_count": null,
      "outputs": []
    },
    {
      "cell_type": "code",
      "source": [
        "from IPython.display import clear_output\n",
        "%cd /content/PaddleDetection/\n",
        "\n",
        "for model in models_to_try:\n",
        "  output_path = \"/content/PaddleDetection/output/mot_outputs/input_vis.mp4\"\n",
        "  save_path = f\"/content/drive/MyDrive/PADDLEDETECTION_EXPERIMENTS/{model}.mp4\"\n",
        "\n",
        "  weights = f\"https://paddledet.bj.bcebos.com/models/mot/{model}.pdparams\"\n",
        "  model_path = f\"configs/mot/pedestrian/{model}.yml\"\n",
        "\n",
        "  !yes | python tools/infer_mot.py -c {model_path} -o weights={weights} --video_file=/content/input.mp4  --save_videos --frame_rate 25\n",
        "\n",
        "  !cp {output_path} {save_path}\n",
        "  !rm \"/content/PaddleDetection/output/mot_outputs/input_vis.mp4\"\n",
        "\n",
        "  clear_output()"
      ],
      "metadata": {
        "colab": {
          "base_uri": "https://localhost:8080/"
        },
        "id": "AqvmjRMxbSNj",
        "outputId": "b1d926d0-a9cd-4a11-d523-7d634a7ccc00"
      },
      "execution_count": null,
      "outputs": [
        {
          "output_type": "stream",
          "name": "stdout",
          "text": [
            "/content/PaddleDetection\n",
            "Warning: import ppdet from source directory without installing, run 'python setup.py install' to install ppdet firstly\n",
            "W0722 17:48:29.128759 77673 gpu_resources.cc:119] Please NOTE: device: 0, GPU Compute Capability: 7.5, Driver API Version: 12.0, Runtime API Version: 11.8\n",
            "W0722 17:48:29.134017 77673 gpu_resources.cc:149] device: 0, cuDNN Version: 8.9.\n",
            "[07/22 17:48:31] ppdet.data.source.category WARNING: anno_file 'None' is None or not set or not exist, please recheck TrainDataset/EvalDataset/TestDataset.anno_path, otherwise the default categories will be used by metric_type.\n",
            "[07/22 17:48:31] ppdet.data.source.category WARNING: metric_type: MOT, load default categories of pedestrian MOT.\n",
            "[07/22 17:48:31] ppdet.utils.download INFO: Downloading fairmot_dla34_30e_1088x608_pathtrack.pdparams from https://paddledet.bj.bcebos.com/models/mot/fairmot_dla34_30e_1088x608_pathtrack.pdparams\n",
            "100% 85346/85346 [00:23<00:00, 3691.04KB/s] \n",
            "[07/22 17:48:56] ppdet.utils.checkpoint INFO: Finish resuming model weights: /root/.cache/paddle/weights/fairmot_dla34_30e_1088x608_pathtrack.pdparams\n"
          ]
        }
      ]
    },
    {
      "cell_type": "code",
      "source": [],
      "metadata": {
        "id": "oJzJu_NTbZ6s"
      },
      "execution_count": null,
      "outputs": []
    }
  ]
}